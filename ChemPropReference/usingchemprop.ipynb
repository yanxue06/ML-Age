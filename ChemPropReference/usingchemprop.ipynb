{
 "cells": [
  {
   "cell_type": "code",
   "execution_count": 1,
   "metadata": {},
   "outputs": [],
   "source": [
    "import pandas as pd\n",
    "import numpy as np\n",
    "import seaborn as sns\n",
    "import matplotlib.pyplot as plt\n",
    "from chemprop.cli import train, predict\n",
    "from sklearn.metrics import r2_score\n",
    "from sklearn.model_selection import train_test_split"
   ]
  },
  {
   "cell_type": "code",
   "execution_count": 3,
   "metadata": {},
   "outputs": [],
   "source": [
    "# Load the dataset\n",
    "df = pd.read_csv('../dataset.csv')\n",
    "\n",
    "# Filter for Caenorhabditis elegans species\n",
    "df = df[df[\"species\"] == \"Caenorhabditis elegans\"].reset_index(drop=True)\n",
    "\n",
    "# Drop rows with missing target values\n",
    "df = df.dropna(subset=['avg_lifespan_change_percent'])"
   ]
  },
  {
   "cell_type": "code",
   "execution_count": 4,
   "metadata": {},
   "outputs": [
    {
     "name": "stdout",
     "output_type": "stream",
     "text": [
      "Error fetching SMILES for Metformin: 'PUGREST.ServerBusy'\n"
     ]
    }
   ],
   "source": [
    "import pubchempy as pcp\n",
    "from rdkit import Chem\n",
    "from rdkit.Chem import rdFingerprintGenerator\n",
    "import ssl\n",
    "\n",
    "# Disable SSL verification (only if you have certificate issues)\n",
    "ssl._create_default_https_context = ssl._create_unverified_context\n",
    "\n",
    "def get_smiles_from_pubchem(compound_name):\n",
    "    \"\"\"Fetch canonical SMILES for a compound name from PubChem.\"\"\"\n",
    "    try:\n",
    "        compound = pcp.get_compounds(compound_name, 'name')\n",
    "        if compound:\n",
    "            return compound[0].canonical_smiles\n",
    "    except Exception as e:\n",
    "        print(f\"Error fetching SMILES for {compound_name}: {e}\")\n",
    "    return None\n",
    "\n",
    "# Add SMILES to the DataFrame\n",
    "df['smiles'] = df['compound_name'].apply(get_smiles_from_pubchem)\n",
    "df = df.dropna(subset=['smiles'])  # Drop rows where SMILES is not available"
   ]
  },
  {
   "cell_type": "code",
   "execution_count": 39,
   "metadata": {},
   "outputs": [
    {
     "name": "stderr",
     "output_type": "stream",
     "text": [
      "usage: chemprop predict [-h] [--logfile [LOGFILE]] [-v] [-q]\n",
      "                        [-s SMILES_COLUMNS [SMILES_COLUMNS ...]]\n",
      "                        [-r REACTION_COLUMNS [REACTION_COLUMNS ...]]\n",
      "                        [--no-header-row] [-n NUM_WORKERS] [-b BATCH_SIZE]\n",
      "                        [--accelerator ACCELERATOR] [--devices DEVICES]\n",
      "                        [--rxn-mode {REAC_PROD,REAC_PROD_BALANCE,REAC_DIFF,REAC_DIFF_BALANCE,PROD_DIFF,PROD_DIFF_BALANCE}]\n",
      "                        [--multi-hot-atom-featurizer-mode {V1,V2,ORGANIC,RIGR}]\n",
      "                        [--keep-h] [--add-h]\n",
      "                        [--molecule-featurizers {morgan_binary,morgan_count,rdkit_2d,v1_rdkit_2d,v1_rdkit_2d_normalized,charge} [{morgan_binary,morgan_count,rdkit_2d,v1_rdkit_2d,v1_rdkit_2d_normalized,charge} ...]]\n",
      "                        [--descriptors-path DESCRIPTORS_PATH]\n",
      "                        [--no-descriptor-scaling] [--no-atom-feature-scaling]\n",
      "                        [--no-atom-descriptor-scaling]\n",
      "                        [--no-bond-feature-scaling]\n",
      "                        [--atom-features-path ATOM_FEATURES_PATH [ATOM_FEATURES_PATH ...]]\n",
      "                        [--atom-descriptors-path ATOM_DESCRIPTORS_PATH [ATOM_DESCRIPTORS_PATH ...]]\n",
      "                        [--bond-features-path BOND_FEATURES_PATH [BOND_FEATURES_PATH ...]]\n",
      "                        -i TEST_PATH [-o OUTPUT] [--drop-extra-columns]\n",
      "                        --model-paths MODEL_PATHS [MODEL_PATHS ...]\n",
      "                        [--cal-path CAL_PATH]\n",
      "                        [--uncertainty-method {none,mve,ensemble,classification,evidential-total,evidential-epistemic,evidential-aleatoric,dropout,classification-dirichlet,multiclass-dirichlet,quantile-regression}]\n",
      "                        [--calibration-method {zscaling,zelikman-interval,mve-weighting,conformal-regression,platt,isotonic,conformal-multilabel,conformal-multiclass,conformal-adaptive,isotonic-multiclass}]\n",
      "                        [--evaluation-methods {nll-regression,miscalibration_area,ence,spearman,conformal-coverage-regression,nll-classification,conformal-coverage-classification,nll-multiclass,conformal-coverage-multiclass} [{nll-regression,miscalibration_area,ence,spearman,conformal-coverage-regression,nll-classification,conformal-coverage-classification,nll-multiclass,conformal-coverage-multiclass} ...]]\n",
      "                        [--uncertainty-dropout-p UNCERTAINTY_DROPOUT_P]\n",
      "                        [--dropout-sampling-size DROPOUT_SAMPLING_SIZE]\n",
      "                        [--calibration-interval-percentile CALIBRATION_INTERVAL_PERCENTILE]\n",
      "                        [--conformal-alpha CONFORMAL_ALPHA]\n",
      "                        [--cal-descriptors-path CAL_DESCRIPTORS_PATH [CAL_DESCRIPTORS_PATH ...]]\n",
      "                        [--cal-atom-features-path CAL_ATOM_FEATURES_PATH [CAL_ATOM_FEATURES_PATH ...]]\n",
      "                        [--cal-atom-descriptors-path CAL_ATOM_DESCRIPTORS_PATH [CAL_ATOM_DESCRIPTORS_PATH ...]]\n",
      "                        [--cal-bond-features-path CAL_BOND_FEATURES_PATH [CAL_BOND_FEATURES_PATH ...]]\n",
      "chemprop predict: error: the following arguments are required: -i/--test-path, --model-paths/--model-path\n"
     ]
    },
    {
     "ename": "SystemExit",
     "evalue": "2",
     "output_type": "error",
     "traceback": [
      "An exception has occurred, use %tb to see the full traceback.\n",
      "\u001b[0;31mSystemExit\u001b[0m\u001b[0;31m:\u001b[0m 2\n"
     ]
    },
    {
     "name": "stderr",
     "output_type": "stream",
     "text": [
      "/opt/homebrew/anaconda3/lib/python3.12/site-packages/IPython/core/interactiveshell.py:3585: UserWarning: To exit: use 'exit', 'quit', or Ctrl-D.\n",
      "  warn(\"To exit: use 'exit', 'quit', or Ctrl-D.\", stacklevel=1)\n"
     ]
    }
   ],
   "source": [
    "import sys\n",
    "from chemprop.cli.main import main\n",
    "import pandas as pd\n",
    "\n",
    "# Prepare your test data\n",
    "test_data = df[['smiles']]\n",
    "test_data.to_csv('test_data.csv', index=False)\n",
    "\n",
    "# Simulate command-line arguments by overriding sys.argv\n",
    "sys.argv = [\n",
    "    'chemprop', 'predict',\n",
    "    '--test_path', 'test_data.csv',\n",
    "    '--checkpoint_dir', 'chemprop_model',\n",
    "    '--preds_path', 'predictions.csv'\n",
    "]\n",
    "\n",
    "# Call the main function\n",
    "main()\n",
    "\n",
    "# # Load the predictions\n",
    "# predictions = pd.read_csv('predictions.csv')\n",
    "# y_pred_chemprop = predictions['target']\n"
   ]
  },
  {
   "cell_type": "code",
   "execution_count": 2,
   "metadata": {},
   "outputs": [
    {
     "ename": "NameError",
     "evalue": "name 'df' is not defined",
     "output_type": "error",
     "traceback": [
      "\u001b[0;31m---------------------------------------------------------------------------\u001b[0m",
      "\u001b[0;31mNameError\u001b[0m                                 Traceback (most recent call last)",
      "Cell \u001b[0;32mIn[2], line 5\u001b[0m\n\u001b[1;32m      2\u001b[0m \u001b[38;5;28;01mfrom\u001b[39;00m \u001b[38;5;21;01msklearn\u001b[39;00m\u001b[38;5;21;01m.\u001b[39;00m\u001b[38;5;21;01mmodel_selection\u001b[39;00m \u001b[38;5;28;01mimport\u001b[39;00m train_test_split\n\u001b[1;32m      4\u001b[0m \u001b[38;5;66;03m# Use the same split as before for consistency\u001b[39;00m\n\u001b[0;32m----> 5\u001b[0m X \u001b[38;5;241m=\u001b[39m df[[\u001b[38;5;124m'\u001b[39m\u001b[38;5;124msmiles\u001b[39m\u001b[38;5;124m'\u001b[39m]]\n\u001b[1;32m      6\u001b[0m y \u001b[38;5;241m=\u001b[39m df[\u001b[38;5;124m'\u001b[39m\u001b[38;5;124mavg_lifespan_change_percent\u001b[39m\u001b[38;5;124m'\u001b[39m]\n\u001b[1;32m      7\u001b[0m X_train, X_test, y_train, y_test \u001b[38;5;241m=\u001b[39m train_test_split(X, y, test_size\u001b[38;5;241m=\u001b[39m\u001b[38;5;241m0.2\u001b[39m, random_state\u001b[38;5;241m=\u001b[39m\u001b[38;5;241m42\u001b[39m)\n",
      "\u001b[0;31mNameError\u001b[0m: name 'df' is not defined"
     ]
    }
   ],
   "source": [
    "# Split the data into training and testing sets\n",
    "from sklearn.model_selection import train_test_split\n",
    "\n",
    "# Use the same split as before for consistency\n",
    "X = df[['smiles']]\n",
    "y = df['avg_lifespan_change_percent']\n",
    "X_train, X_test, y_train, y_test = train_test_split(X, y, test_size=0.2, random_state=42)\n",
    "\n",
    "# Calculate R² score\n",
    "r2_chemprop = r2_score(y_test, y_pred_chemprop)\n",
    "print(f\"Chemprop R² Score: {r2_chemprop:.3f}\")\n",
    "\n",
    "# Plot the results\n",
    "plt.figure(figsize=(6, 6))\n",
    "sns.regplot(x=y_test, y=y_pred_chemprop, scatter_kws={'s': 10}, line_kws={'color': 'red'})\n",
    "plt.xlabel(\"Actual Lifespan Change (%)\")\n",
    "plt.ylabel(\"Predicted Lifespan Change (%)\")\n",
    "plt.title(\"Test Set Correlation: Actual vs. Predicted Lifespan Change (Chemprop)\")\n",
    "plt.show()"
   ]
  },
  {
   "cell_type": "code",
   "execution_count": null,
   "metadata": {},
   "outputs": [],
   "source": [
    "# Original Random Forest R² Score\n",
    "print(f\"Random Forest R² Score: {r2:.3f}\")\n",
    "\n",
    "# Chemprop R² Score\n",
    "print(f\"Chemprop R² Score: {r2_chemprop:.3f}\")"
   ]
  }
 ],
 "metadata": {
  "kernelspec": {
   "display_name": "base",
   "language": "python",
   "name": "python3"
  },
  "language_info": {
   "codemirror_mode": {
    "name": "ipython",
    "version": 3
   },
   "file_extension": ".py",
   "mimetype": "text/x-python",
   "name": "python",
   "nbconvert_exporter": "python",
   "pygments_lexer": "ipython3",
   "version": "3.12.7"
  }
 },
 "nbformat": 4,
 "nbformat_minor": 2
}
