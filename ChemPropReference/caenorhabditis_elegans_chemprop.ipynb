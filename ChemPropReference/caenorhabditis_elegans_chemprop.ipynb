{
 "cells": [
  {
   "cell_type": "code",
   "execution_count": 2,
   "metadata": {},
   "outputs": [],
   "source": [
    "import pandas as pd\n",
    "import numpy as np\n",
    "import seaborn as sns\n",
    "import matplotlib.pyplot as plt\n",
    "from chemprop.cli import train, predict\n",
    "from sklearn.metrics import r2_score\n",
    "from sklearn.model_selection import train_test_split"
   ]
  },
  {
   "cell_type": "markdown",
   "metadata": {},
   "source": [
    "Loading the dataset."
   ]
  },
  {
   "cell_type": "code",
   "execution_count": 3,
   "metadata": {},
   "outputs": [],
   "source": [
    "df = pd.read_csv('../dataset.csv')"
   ]
  },
  {
   "cell_type": "markdown",
   "metadata": {},
   "source": [
    "Filtering for the \"Caenorhabditis elegans\" species."
   ]
  },
  {
   "cell_type": "code",
   "execution_count": 4,
   "metadata": {},
   "outputs": [],
   "source": [
    "df = df[df[\"species\"] == \"Caenorhabditis elegans\"].reset_index(drop=True)"
   ]
  },
  {
   "cell_type": "markdown",
   "metadata": {},
   "source": [
    "Removes rows with missing values in the target column."
   ]
  },
  {
   "cell_type": "code",
   "execution_count": 5,
   "metadata": {},
   "outputs": [],
   "source": [
    "df = df.dropna(subset=['avg_lifespan_change_percent'])"
   ]
  },
  {
   "cell_type": "code",
   "execution_count": 6,
   "metadata": {},
   "outputs": [],
   "source": [
    "import pubchempy as pcp\n",
    "from rdkit import Chem\n",
    "from rdkit.Chem import rdFingerprintGenerator\n",
    "import ssl"
   ]
  },
  {
   "cell_type": "markdown",
   "metadata": {},
   "source": [
    "Configure SSL settings to avoid connection issues when retrieving SMILES data from PubChem."
   ]
  },
  {
   "cell_type": "code",
   "execution_count": 7,
   "metadata": {},
   "outputs": [],
   "source": [
    "ssl._create_default_https_context = ssl._create_unverified_context"
   ]
  },
  {
   "cell_type": "markdown",
   "metadata": {},
   "source": [
    "Uses PubChem to fetch SMILES for each compound."
   ]
  },
  {
   "cell_type": "code",
   "execution_count": 8,
   "metadata": {},
   "outputs": [],
   "source": [
    "def get_smiles_from_pubchem(compound_name):\n",
    "    \"\"\"Fetch canonical SMILES for a compound name from PubChem.\"\"\"\n",
    "    try:\n",
    "        compound = pcp.get_compounds(compound_name, 'name')\n",
    "        if compound:\n",
    "            return compound[0].canonical_smiles\n",
    "    except Exception as e:\n",
    "        print(f\"Error fetching SMILES for {compound_name}: {e}\")\n",
    "    return None"
   ]
  },
  {
   "cell_type": "markdown",
   "metadata": {},
   "source": [
    "Fetch SMILES strings for each compound. Remove any rows where SMILES couldn't be found."
   ]
  },
  {
   "cell_type": "code",
   "execution_count": 9,
   "metadata": {},
   "outputs": [
    {
     "name": "stdout",
     "output_type": "stream",
     "text": [
      "Error fetching SMILES for ABC16: 'PUGREST.ServerBusy'\n"
     ]
    }
   ],
   "source": [
    "df['smiles'] = df['compound_name'].apply(get_smiles_from_pubchem)\n",
    "df = df.dropna(subset=['smiles'])  # Drop rows where SMILES is not available"
   ]
  },
  {
   "cell_type": "markdown",
   "metadata": {},
   "source": [
    "Prepare the final dataset for Chemprop, containing only SMILES and target values, and save it as lifespan_data.csv."
   ]
  },
  {
   "cell_type": "code",
   "execution_count": 10,
   "metadata": {},
   "outputs": [],
   "source": [
    "chemprop_data = df[['smiles', 'avg_lifespan_change_percent']]\n",
    "chemprop_data.to_csv('lifespan_data.csv', index=False)"
   ]
  },
  {
   "cell_type": "markdown",
   "metadata": {},
   "source": [
    "Split data into training (80%) and testing (20%) datasets, clearly saving each separately."
   ]
  },
  {
   "cell_type": "code",
   "execution_count": 11,
   "metadata": {},
   "outputs": [],
   "source": [
    "train_df, test_df = train_test_split(chemprop_data, test_size=0.2, random_state=42)\n",
    "train_df.to_csv('train_data.csv', index=False)\n",
    "test_df.to_csv('test_data.csv', index=False)"
   ]
  },
  {
   "cell_type": "markdown",
   "metadata": {},
   "source": [
    "Train a Chemprop regression model using your training data. The trained model is saved in the model_checkpoint directory."
   ]
  },
  {
   "cell_type": "code",
   "execution_count": 21,
   "metadata": {},
   "outputs": [
    {
     "name": "stdout",
     "output_type": "stream",
     "text": [
      "2025-03-25T00:30:34 - INFO:chemprop.cli.main - Running in mode 'train' with args: {'smiles_columns': ['smiles'], 'reaction_columns': None, 'no_header_row': False, 'num_workers': 0, 'batch_size': 64, 'accelerator': 'auto', 'devices': 'auto', 'rxn_mode': 'REAC_DIFF', 'multi_hot_atom_featurizer_mode': 'V2', 'keep_h': False, 'add_h': False, 'molecule_featurizers': None, 'descriptors_path': None, 'no_descriptor_scaling': False, 'no_atom_feature_scaling': False, 'no_atom_descriptor_scaling': False, 'no_bond_feature_scaling': False, 'atom_features_path': None, 'atom_descriptors_path': None, 'bond_features_path': None, 'config_path': None, 'data_path': PosixPath('train_data.csv'), 'output_dir': PosixPath('model_checkpoint'), 'remove_checkpoints': False, 'checkpoint': None, 'freeze_encoder': False, 'model_frzn': None, 'frzn_ffn_layers': 0, 'ensemble_size': 1, 'message_hidden_dim': 300, 'message_bias': False, 'depth': 3, 'undirected': False, 'dropout': 0.0, 'mpn_shared': False, 'activation': 'RELU', 'aggregation': 'norm', 'aggregation_norm': 100, 'atom_messages': False, 'ffn_hidden_dim': 300, 'ffn_num_layers': 1, 'batch_norm': False, 'multiclass_num_classes': 3, 'weight_column': None, 'target_columns': ['avg_lifespan_change_percent'], 'ignore_columns': None, 'no_cache': False, 'splits_column': None, 'task_type': 'regression', 'loss_function': None, 'v_kl': 0.0, 'eps': 1e-08, 'alpha': 0.1, 'metrics': None, 'tracking_metric': 'val_loss', 'show_individual_scores': False, 'task_weights': None, 'warmup_epochs': 2, 'init_lr': 0.0001, 'max_lr': 0.001, 'final_lr': 0.0001, 'epochs': 50, 'patience': None, 'grad_clip': None, 'class_balance': False, 'split': 'RANDOM', 'split_sizes': [0.8, 0.1, 0.1], 'split_key_molecule': 0, 'num_replicates': 1, 'num_folds': None, 'save_smiles_splits': False, 'splits_file': None, 'data_seed': 0, 'pytorch_seed': None}\n",
      "Wrote config file to model_checkpoint/config.toml\n",
      "2025-03-25T00:30:34 - INFO:chemprop.cli.train - Pulling data from file: train_data.csv\n",
      "2025-03-25T00:30:34 - WARNING:chemprop.data.splitting - The return type of make_split_indices has changed in v2.1 - see help(make_split_indices)\n",
      "2025-03-25T00:30:34 - INFO:chemprop.cli.train - train/val/test split_0 sizes: [809, 101, 102]\n",
      "2025-03-25T00:30:34 - INFO:chemprop.cli.train - \n",
      "                Summary of Training Data                 \n",
      "┏━━━━━━━━━━━━━━━━━┳━━━━━━━━━━━━━━━━━━━━━━━━━━━━━━━━━━━━━┓\n",
      "┃       Statistic ┃ Value (avg_lifespan_change_percent) ┃\n",
      "┡━━━━━━━━━━━━━━━━━╇━━━━━━━━━━━━━━━━━━━━━━━━━━━━━━━━━━━━━┩\n",
      "│     Num. smiles │                                 809 │\n",
      "│    Num. targets │                                 809 │\n",
      "│        Num. NaN │                                   0 │\n",
      "│            Mean │                                8.82 │\n",
      "│       Std. dev. │                                18.8 │\n",
      "│          Median │                                 9.3 │\n",
      "│ % within 1 s.d. │                                 78% │\n",
      "│ % within 2 s.d. │                                 96% │\n",
      "└─────────────────┴─────────────────────────────────────┘\n",
      "\n",
      "2025-03-25T00:30:34 - INFO:chemprop.cli.train - \n",
      "               Summary of Validation Data                \n",
      "┏━━━━━━━━━━━━━━━━━┳━━━━━━━━━━━━━━━━━━━━━━━━━━━━━━━━━━━━━┓\n",
      "┃       Statistic ┃ Value (avg_lifespan_change_percent) ┃\n",
      "┡━━━━━━━━━━━━━━━━━╇━━━━━━━━━━━━━━━━━━━━━━━━━━━━━━━━━━━━━┩\n",
      "│     Num. smiles │                                 101 │\n",
      "│    Num. targets │                                 101 │\n",
      "│        Num. NaN │                                   0 │\n",
      "│            Mean │                                9.49 │\n",
      "│       Std. dev. │                                20.9 │\n",
      "│          Median │                                 8.6 │\n",
      "│ % within 1 s.d. │                                 82% │\n",
      "│ % within 2 s.d. │                                 96% │\n",
      "└─────────────────┴─────────────────────────────────────┘\n",
      "\n",
      "2025-03-25T00:30:34 - INFO:chemprop.cli.train - \n",
      "                  Summary of Test Data                   \n",
      "┏━━━━━━━━━━━━━━━━━┳━━━━━━━━━━━━━━━━━━━━━━━━━━━━━━━━━━━━━┓\n",
      "┃       Statistic ┃ Value (avg_lifespan_change_percent) ┃\n",
      "┡━━━━━━━━━━━━━━━━━╇━━━━━━━━━━━━━━━━━━━━━━━━━━━━━━━━━━━━━┩\n",
      "│     Num. smiles │                                 102 │\n",
      "│    Num. targets │                                 102 │\n",
      "│        Num. NaN │                                   0 │\n",
      "│            Mean │                                9.59 │\n",
      "│       Std. dev. │                                22.1 │\n",
      "│          Median │                                  10 │\n",
      "│ % within 1 s.d. │                                 80% │\n",
      "│ % within 2 s.d. │                                 95% │\n",
      "└─────────────────┴─────────────────────────────────────┘\n",
      "\n",
      "2025-03-25T00:30:34 - INFO:chemprop.cli.train - Train data: mean = [8.81647714] | std = [18.83508669]\n",
      "2025-03-25T00:30:34 - INFO:chemprop.cli.train - No loss function was specified! Using class default: <class 'chemprop.nn.metrics.MSE'>\n",
      "2025-03-25T00:30:34 - INFO:chemprop.cli.train - MPNN(\n",
      "  (message_passing): BondMessagePassing(\n",
      "    (W_i): Linear(in_features=86, out_features=300, bias=False)\n",
      "    (W_h): Linear(in_features=300, out_features=300, bias=False)\n",
      "    (W_o): Linear(in_features=372, out_features=300, bias=True)\n",
      "    (dropout): Dropout(p=0.0, inplace=False)\n",
      "    (tau): ReLU()\n",
      "    (V_d_transform): Identity()\n",
      "    (graph_transform): GraphTransform(\n",
      "      (V_transform): Identity()\n",
      "      (E_transform): Identity()\n",
      "    )\n",
      "  )\n",
      "  (agg): NormAggregation()\n",
      "  (bn): Identity()\n",
      "  (predictor): RegressionFFN(\n",
      "    (ffn): MLP(\n",
      "      (0): Sequential(\n",
      "        (0): Linear(in_features=300, out_features=300, bias=True)\n",
      "      )\n",
      "      (1): Sequential(\n",
      "        (0): ReLU()\n",
      "        (1): Dropout(p=0.0, inplace=False)\n",
      "        (2): Linear(in_features=300, out_features=1, bias=True)\n",
      "      )\n",
      "    )\n",
      "    (criterion): MSE(task_weights=[[1.0]])\n",
      "    (output_transform): UnscaleTransform()\n",
      "  )\n",
      "  (X_d_transform): Identity()\n",
      "  (metrics): ModuleList(\n",
      "    (0-1): 2 x MSE(task_weights=[[1.0]])\n",
      "  )\n",
      ")\n",
      "2025-03-25T00:30:34 - WARNING:chemprop.cli.train - Unable to import TensorBoardLogger, reverting to CSVLogger (original error: Neither `tensorboard` nor `tensorboardX` is available. Try `pip install`ing either.\n",
      "Requirement 'tensorboardX' not met. HINT: Try running `pip install -U 'tensorboardX'`\n",
      "Requirement 'tensorboard' not met. HINT: Try running `pip install -U 'tensorboard'`).\n",
      "GPU available: True (mps), used: True\n",
      "TPU available: False, using: 0 TPU cores\n",
      "HPU available: False, using: 0 HPUs\n",
      "Loading `train_dataloader` to estimate number of stepping batches.\n",
      "/opt/homebrew/anaconda3/lib/python3.12/site-packages/lightning/pytorch/trainer/connectors/data_connector.py:425: The 'train_dataloader' does not have many workers which may be a bottleneck. Consider increasing the value of the `num_workers` argument` to `num_workers=7` in the `DataLoader` to improve performance.\n",
      "/opt/homebrew/anaconda3/lib/python3.12/site-packages/lightning/pytorch/loops/fit_loop.py:310: The number of training batches (13) is smaller than the logging interval Trainer(log_every_n_steps=50). Set a lower value for log_every_n_steps if you want to see logs for the training epoch.\n",
      "\n",
      "  | Name            | Type               | Params | Mode \n",
      "---------------------------------------------------------------\n",
      "0 | message_passing | BondMessagePassing | 227 K  | train\n",
      "1 | agg             | NormAggregation    | 0      | train\n",
      "2 | bn              | Identity           | 0      | train\n",
      "3 | predictor       | RegressionFFN      | 90.6 K | train\n",
      "4 | X_d_transform   | Identity           | 0      | train\n",
      "5 | metrics         | ModuleList         | 0      | train\n",
      "---------------------------------------------------------------\n",
      "318 K     Trainable params\n",
      "0         Non-trainable params\n",
      "318 K     Total params\n",
      "1.273     Total estimated model params size (MB)\n",
      "26        Modules in train mode\n",
      "0         Modules in eval mode\n",
      "Sanity Checking: |                                        | 0/? [00:00<?, ?it/s]/opt/homebrew/anaconda3/lib/python3.12/site-packages/lightning/pytorch/trainer/connectors/data_connector.py:425: The 'val_dataloader' does not have many workers which may be a bottleneck. Consider increasing the value of the `num_workers` argument` to `num_workers=7` in the `DataLoader` to improve performance.\n",
      "Epoch 0: 100%|██| 13/13 [00:05<00:00,  2.20it/s, v_num=0, train_loss_step=0.943]\n",
      "Validation: |                                             | 0/? [00:00<?, ?it/s]\u001b[A\n",
      "Validation:   0%|                                         | 0/2 [00:00<?, ?it/s]\u001b[A\n",
      "Validation DataLoader 0:   0%|                            | 0/2 [00:00<?, ?it/s]\u001b[A\n",
      "Validation DataLoader 0:  50%|██████████          | 1/2 [00:00<00:00, 19.15it/s]\u001b[A\n",
      "Validation DataLoader 0: 100%|████████████████████| 2/2 [00:00<00:00, 14.38it/s]\u001b[A\n",
      "Epoch 1: 100%|█| 13/13 [00:01<00:00,  8.65it/s, v_num=0, train_loss_step=0.676, \u001b[A\n",
      "Validation: |                                             | 0/? [00:00<?, ?it/s]\u001b[A\n",
      "Validation:   0%|                                         | 0/2 [00:00<?, ?it/s]\u001b[A\n",
      "Validation DataLoader 0:   0%|                            | 0/2 [00:00<?, ?it/s]\u001b[A\n",
      "Validation DataLoader 0:  50%|██████████          | 1/2 [00:00<00:00, 21.92it/s]\u001b[A\n",
      "Validation DataLoader 0: 100%|████████████████████| 2/2 [00:00<00:00, 27.82it/s]\u001b[A\n",
      "Epoch 2: 100%|█| 13/13 [00:01<00:00,  7.88it/s, v_num=0, train_loss_step=1.100, \u001b[A\n",
      "Validation: |                                             | 0/? [00:00<?, ?it/s]\u001b[A\n",
      "Validation:   0%|                                         | 0/2 [00:00<?, ?it/s]\u001b[A\n",
      "Validation DataLoader 0:   0%|                            | 0/2 [00:00<?, ?it/s]\u001b[A\n",
      "Validation DataLoader 0:  50%|██████████          | 1/2 [00:00<00:00, 21.46it/s]\u001b[A\n",
      "Validation DataLoader 0: 100%|████████████████████| 2/2 [00:00<00:00, 27.41it/s]\u001b[A\n",
      "Epoch 3: 100%|█| 13/13 [00:01<00:00,  7.74it/s, v_num=0, train_loss_step=0.619, \u001b[A\n",
      "Validation: |                                             | 0/? [00:00<?, ?it/s]\u001b[A\n",
      "Validation:   0%|                                         | 0/2 [00:00<?, ?it/s]\u001b[A\n",
      "Validation DataLoader 0:   0%|                            | 0/2 [00:00<?, ?it/s]\u001b[A\n",
      "Validation DataLoader 0:  50%|██████████          | 1/2 [00:00<00:00, 25.96it/s]\u001b[A\n",
      "Validation DataLoader 0: 100%|████████████████████| 2/2 [00:00<00:00, 31.95it/s]\u001b[A\n",
      "Epoch 4: 100%|█| 13/13 [00:01<00:00,  7.72it/s, v_num=0, train_loss_step=0.897, \u001b[A\n",
      "Validation: |                                             | 0/? [00:00<?, ?it/s]\u001b[A\n",
      "Validation:   0%|                                         | 0/2 [00:00<?, ?it/s]\u001b[A\n",
      "Validation DataLoader 0:   0%|                            | 0/2 [00:00<?, ?it/s]\u001b[A\n",
      "Validation DataLoader 0:  50%|██████████          | 1/2 [00:00<00:00, 20.36it/s]\u001b[A\n",
      "Validation DataLoader 0: 100%|████████████████████| 2/2 [00:00<00:00, 26.73it/s]\u001b[A\n",
      "Epoch 5: 100%|█| 13/13 [00:01<00:00,  7.57it/s, v_num=0, train_loss_step=1.150, \u001b[A\n",
      "Validation: |                                             | 0/? [00:00<?, ?it/s]\u001b[A\n",
      "Validation:   0%|                                         | 0/2 [00:00<?, ?it/s]\u001b[A\n",
      "Validation DataLoader 0:   0%|                            | 0/2 [00:00<?, ?it/s]\u001b[A\n",
      "Validation DataLoader 0:  50%|██████████          | 1/2 [00:00<00:00, 21.58it/s]\u001b[A\n",
      "Validation DataLoader 0: 100%|████████████████████| 2/2 [00:00<00:00, 26.93it/s]\u001b[A\n",
      "Epoch 6: 100%|█| 13/13 [00:02<00:00,  6.23it/s, v_num=0, train_loss_step=2.440, \u001b[A\n",
      "Validation: |                                             | 0/? [00:00<?, ?it/s]\u001b[A\n",
      "Validation:   0%|                                         | 0/2 [00:00<?, ?it/s]\u001b[A\n",
      "Validation DataLoader 0:   0%|                            | 0/2 [00:00<?, ?it/s]\u001b[A\n",
      "Validation DataLoader 0:  50%|██████████          | 1/2 [00:00<00:00, 24.49it/s]\u001b[A\n",
      "Validation DataLoader 0: 100%|████████████████████| 2/2 [00:00<00:00, 28.25it/s]\u001b[A\n",
      "Epoch 7: 100%|█| 13/13 [00:02<00:00,  5.82it/s, v_num=0, train_loss_step=2.100, \u001b[A\n",
      "Validation: |                                             | 0/? [00:00<?, ?it/s]\u001b[A\n",
      "Validation:   0%|                                         | 0/2 [00:00<?, ?it/s]\u001b[A\n",
      "Validation DataLoader 0:   0%|                            | 0/2 [00:00<?, ?it/s]\u001b[A\n",
      "Validation DataLoader 0:  50%|██████████          | 1/2 [00:00<00:00, 23.32it/s]\u001b[A\n",
      "Validation DataLoader 0: 100%|████████████████████| 2/2 [00:00<00:00, 27.67it/s]\u001b[A\n",
      "Epoch 8: 100%|█| 13/13 [00:02<00:00,  5.83it/s, v_num=0, train_loss_step=1.130, \u001b[A\n",
      "Validation: |                                             | 0/? [00:00<?, ?it/s]\u001b[A\n",
      "Validation:   0%|                                         | 0/2 [00:00<?, ?it/s]\u001b[A\n",
      "Validation DataLoader 0:   0%|                            | 0/2 [00:00<?, ?it/s]\u001b[A\n",
      "Validation DataLoader 0:  50%|██████████          | 1/2 [00:00<00:00, 20.44it/s]\u001b[A\n",
      "Validation DataLoader 0: 100%|████████████████████| 2/2 [00:00<00:00, 24.92it/s]\u001b[A\n",
      "Epoch 9: 100%|█| 13/13 [00:02<00:00,  6.47it/s, v_num=0, train_loss_step=0.384, \u001b[A\n",
      "Validation: |                                             | 0/? [00:00<?, ?it/s]\u001b[A\n",
      "Validation:   0%|                                         | 0/2 [00:00<?, ?it/s]\u001b[A\n",
      "Validation DataLoader 0:   0%|                            | 0/2 [00:00<?, ?it/s]\u001b[A\n",
      "Validation DataLoader 0:  50%|██████████          | 1/2 [00:00<00:00, 25.46it/s]\u001b[A\n",
      "Validation DataLoader 0: 100%|████████████████████| 2/2 [00:00<00:00, 29.51it/s]\u001b[A\n",
      "Epoch 10: 100%|█| 13/13 [00:02<00:00,  5.56it/s, v_num=0, train_loss_step=1.570,\u001b[A\n",
      "Validation: |                                             | 0/? [00:00<?, ?it/s]\u001b[A\n",
      "Validation:   0%|                                         | 0/2 [00:00<?, ?it/s]\u001b[A\n",
      "Validation DataLoader 0:   0%|                            | 0/2 [00:00<?, ?it/s]\u001b[A\n",
      "Validation DataLoader 0:  50%|██████████          | 1/2 [00:00<00:00, 24.44it/s]\u001b[A\n",
      "Validation DataLoader 0: 100%|████████████████████| 2/2 [00:00<00:00, 26.27it/s]\u001b[A\n",
      "Epoch 11: 100%|█| 13/13 [00:02<00:00,  5.80it/s, v_num=0, train_loss_step=0.457,\u001b[A\n",
      "Validation: |                                             | 0/? [00:00<?, ?it/s]\u001b[A\n",
      "Validation:   0%|                                         | 0/2 [00:00<?, ?it/s]\u001b[A\n",
      "Validation DataLoader 0:   0%|                            | 0/2 [00:00<?, ?it/s]\u001b[A\n",
      "Validation DataLoader 0:  50%|██████████          | 1/2 [00:00<00:00, 24.55it/s]\u001b[A\n",
      "Validation DataLoader 0: 100%|████████████████████| 2/2 [00:00<00:00, 28.85it/s]\u001b[A\n",
      "Epoch 12: 100%|█| 13/13 [00:02<00:00,  4.47it/s, v_num=0, train_loss_step=0.700,\u001b[A\n",
      "Validation: |                                             | 0/? [00:00<?, ?it/s]\u001b[A\n",
      "Validation:   0%|                                         | 0/2 [00:00<?, ?it/s]\u001b[A\n",
      "Validation DataLoader 0:   0%|                            | 0/2 [00:00<?, ?it/s]\u001b[A\n",
      "Validation DataLoader 0:  50%|██████████          | 1/2 [00:00<00:00, 19.97it/s]\u001b[A\n",
      "Validation DataLoader 0: 100%|████████████████████| 2/2 [00:00<00:00, 23.82it/s]\u001b[A\n",
      "Epoch 13: 100%|█| 13/13 [00:02<00:00,  4.51it/s, v_num=0, train_loss_step=1.350,\u001b[A\n",
      "Validation: |                                             | 0/? [00:00<?, ?it/s]\u001b[A\n",
      "Validation:   0%|                                         | 0/2 [00:00<?, ?it/s]\u001b[A\n",
      "Validation DataLoader 0:   0%|                            | 0/2 [00:00<?, ?it/s]\u001b[A\n",
      "Validation DataLoader 0:  50%|██████████          | 1/2 [00:00<00:00, 17.88it/s]\u001b[A\n",
      "Validation DataLoader 0: 100%|████████████████████| 2/2 [00:00<00:00, 22.10it/s]\u001b[A\n",
      "Epoch 14: 100%|█| 13/13 [00:04<00:00,  3.01it/s, v_num=0, train_loss_step=1.330,\u001b[A\n",
      "Validation: |                                             | 0/? [00:00<?, ?it/s]\u001b[A\n",
      "Validation:   0%|                                         | 0/2 [00:00<?, ?it/s]\u001b[A\n",
      "Validation DataLoader 0:   0%|                            | 0/2 [00:00<?, ?it/s]\u001b[A\n",
      "Validation DataLoader 0:  50%|██████████          | 1/2 [00:00<00:00, 15.10it/s]\u001b[A\n",
      "Validation DataLoader 0: 100%|████████████████████| 2/2 [00:00<00:00, 19.67it/s]\u001b[A\n",
      "Epoch 15: 100%|█| 13/13 [00:03<00:00,  3.64it/s, v_num=0, train_loss_step=1.130,\u001b[A\n",
      "Validation: |                                             | 0/? [00:00<?, ?it/s]\u001b[A\n",
      "Validation:   0%|                                         | 0/2 [00:00<?, ?it/s]\u001b[A\n",
      "Validation DataLoader 0:   0%|                            | 0/2 [00:00<?, ?it/s]\u001b[A\n",
      "Validation DataLoader 0:  50%|██████████          | 1/2 [00:00<00:00, 17.09it/s]\u001b[A\n",
      "Validation DataLoader 0: 100%|████████████████████| 2/2 [00:00<00:00, 21.34it/s]\u001b[A\n",
      "Epoch 16: 100%|█| 13/13 [00:03<00:00,  3.87it/s, v_num=0, train_loss_step=0.569,\u001b[A\n",
      "Validation: |                                             | 0/? [00:00<?, ?it/s]\u001b[A\n",
      "Validation:   0%|                                         | 0/2 [00:00<?, ?it/s]\u001b[A\n",
      "Validation DataLoader 0:   0%|                            | 0/2 [00:00<?, ?it/s]\u001b[A\n",
      "Validation DataLoader 0:  50%|██████████          | 1/2 [00:00<00:00, 18.71it/s]\u001b[A\n",
      "Validation DataLoader 0: 100%|████████████████████| 2/2 [00:00<00:00, 22.31it/s]\u001b[A\n",
      "Epoch 17: 100%|█| 13/13 [00:03<00:00,  3.55it/s, v_num=0, train_loss_step=1.070,\u001b[A\n",
      "Validation: |                                             | 0/? [00:00<?, ?it/s]\u001b[A\n",
      "Validation:   0%|                                         | 0/2 [00:00<?, ?it/s]\u001b[A\n",
      "Validation DataLoader 0:   0%|                            | 0/2 [00:00<?, ?it/s]\u001b[A\n",
      "Validation DataLoader 0:  50%|██████████          | 1/2 [00:00<00:00, 18.99it/s]\u001b[A\n",
      "Validation DataLoader 0: 100%|████████████████████| 2/2 [00:00<00:00, 22.22it/s]\u001b[A\n",
      "Epoch 18: 100%|█| 13/13 [00:04<00:00,  3.15it/s, v_num=0, train_loss_step=0.801,\u001b[A\n",
      "Validation: |                                             | 0/? [00:00<?, ?it/s]\u001b[A\n",
      "Validation:   0%|                                         | 0/2 [00:00<?, ?it/s]\u001b[A\n",
      "Validation DataLoader 0:   0%|                            | 0/2 [00:00<?, ?it/s]\u001b[A\n",
      "Validation DataLoader 0:  50%|██████████          | 1/2 [00:00<00:00, 17.02it/s]\u001b[A\n",
      "Validation DataLoader 0: 100%|████████████████████| 2/2 [00:00<00:00, 20.28it/s]\u001b[A\n",
      "Epoch 19: 100%|█| 13/13 [00:03<00:00,  3.60it/s, v_num=0, train_loss_step=0.766,\u001b[A\n",
      "Validation: |                                             | 0/? [00:00<?, ?it/s]\u001b[A\n",
      "Validation:   0%|                                         | 0/2 [00:00<?, ?it/s]\u001b[A\n",
      "Validation DataLoader 0:   0%|                            | 0/2 [00:00<?, ?it/s]\u001b[A\n",
      "Validation DataLoader 0:  50%|██████████          | 1/2 [00:00<00:00, 17.40it/s]\u001b[A\n",
      "Validation DataLoader 0: 100%|████████████████████| 2/2 [00:00<00:00, 21.05it/s]\u001b[A\n",
      "Epoch 20: 100%|█| 13/13 [00:03<00:00,  3.43it/s, v_num=0, train_loss_step=1.550,\u001b[A\n",
      "Validation: |                                             | 0/? [00:00<?, ?it/s]\u001b[A\n",
      "Validation:   0%|                                         | 0/2 [00:00<?, ?it/s]\u001b[A\n",
      "Validation DataLoader 0:   0%|                            | 0/2 [00:00<?, ?it/s]\u001b[A\n",
      "Validation DataLoader 0:  50%|██████████          | 1/2 [00:00<00:00, 10.57it/s]\u001b[A\n",
      "Validation DataLoader 0: 100%|████████████████████| 2/2 [00:00<00:00, 13.98it/s]\u001b[A\n",
      "Epoch 21: 100%|█| 13/13 [00:04<00:00,  3.06it/s, v_num=0, train_loss_step=0.480,\u001b[A\n",
      "Validation: |                                             | 0/? [00:00<?, ?it/s]\u001b[A\n",
      "Validation:   0%|                                         | 0/2 [00:00<?, ?it/s]\u001b[A\n",
      "Validation DataLoader 0:   0%|                            | 0/2 [00:00<?, ?it/s]\u001b[A\n",
      "Validation DataLoader 0:  50%|██████████          | 1/2 [00:00<00:00, 18.48it/s]\u001b[A\n",
      "Validation DataLoader 0: 100%|████████████████████| 2/2 [00:00<00:00, 19.69it/s]\u001b[A\n",
      "Epoch 22: 100%|█| 13/13 [00:03<00:00,  3.86it/s, v_num=0, train_loss_step=0.840,\u001b[A\n",
      "Validation: |                                             | 0/? [00:00<?, ?it/s]\u001b[A\n",
      "Validation:   0%|                                         | 0/2 [00:00<?, ?it/s]\u001b[A\n",
      "Validation DataLoader 0:   0%|                            | 0/2 [00:00<?, ?it/s]\u001b[A\n",
      "Validation DataLoader 0:  50%|██████████          | 1/2 [00:00<00:00, 17.02it/s]\u001b[A\n",
      "Validation DataLoader 0: 100%|████████████████████| 2/2 [00:00<00:00, 20.16it/s]\u001b[A\n",
      "Epoch 23: 100%|█| 13/13 [00:03<00:00,  3.77it/s, v_num=0, train_loss_step=0.731,\u001b[A\n",
      "Validation: |                                             | 0/? [00:00<?, ?it/s]\u001b[A\n",
      "Validation:   0%|                                         | 0/2 [00:00<?, ?it/s]\u001b[A\n",
      "Validation DataLoader 0:   0%|                            | 0/2 [00:00<?, ?it/s]\u001b[A\n",
      "Validation DataLoader 0:  50%|██████████          | 1/2 [00:00<00:00, 17.42it/s]\u001b[A\n",
      "Validation DataLoader 0: 100%|████████████████████| 2/2 [00:00<00:00, 19.27it/s]\u001b[A\n",
      "Epoch 24: 100%|█| 13/13 [00:03<00:00,  3.60it/s, v_num=0, train_loss_step=1.090,\u001b[A\n",
      "Validation: |                                             | 0/? [00:00<?, ?it/s]\u001b[A\n",
      "Validation:   0%|                                         | 0/2 [00:00<?, ?it/s]\u001b[A\n",
      "Validation DataLoader 0:   0%|                            | 0/2 [00:00<?, ?it/s]\u001b[A\n",
      "Validation DataLoader 0:  50%|██████████          | 1/2 [00:00<00:00, 14.15it/s]\u001b[A\n",
      "Validation DataLoader 0: 100%|████████████████████| 2/2 [00:00<00:00, 18.59it/s]\u001b[A\n",
      "Epoch 25: 100%|█| 13/13 [00:04<00:00,  3.23it/s, v_num=0, train_loss_step=1.310,\u001b[A\n",
      "Validation: |                                             | 0/? [00:00<?, ?it/s]\u001b[A\n",
      "Validation:   0%|                                         | 0/2 [00:00<?, ?it/s]\u001b[A\n",
      "Validation DataLoader 0:   0%|                            | 0/2 [00:00<?, ?it/s]\u001b[A\n",
      "Validation DataLoader 0:  50%|██████████          | 1/2 [00:00<00:00, 17.82it/s]\u001b[A\n",
      "Validation DataLoader 0: 100%|████████████████████| 2/2 [00:00<00:00, 21.58it/s]\u001b[A\n",
      "Epoch 26: 100%|█| 13/13 [00:03<00:00,  3.63it/s, v_num=0, train_loss_step=0.851,\u001b[A\n",
      "Validation: |                                             | 0/? [00:00<?, ?it/s]\u001b[A\n",
      "Validation:   0%|                                         | 0/2 [00:00<?, ?it/s]\u001b[A\n",
      "Validation DataLoader 0:   0%|                            | 0/2 [00:00<?, ?it/s]\u001b[A\n",
      "Validation DataLoader 0:  50%|██████████          | 1/2 [00:00<00:00, 13.83it/s]\u001b[A\n",
      "Validation DataLoader 0: 100%|████████████████████| 2/2 [00:00<00:00, 18.01it/s]\u001b[A\n",
      "Epoch 27: 100%|█| 13/13 [00:03<00:00,  3.79it/s, v_num=0, train_loss_step=0.715,\u001b[A\n",
      "Validation: |                                             | 0/? [00:00<?, ?it/s]\u001b[A\n",
      "Validation:   0%|                                         | 0/2 [00:00<?, ?it/s]\u001b[A\n",
      "Validation DataLoader 0:   0%|                            | 0/2 [00:00<?, ?it/s]\u001b[A\n",
      "Validation DataLoader 0:  50%|██████████          | 1/2 [00:00<00:00, 10.99it/s]\u001b[A\n",
      "Validation DataLoader 0: 100%|████████████████████| 2/2 [00:00<00:00, 10.64it/s]\u001b[A\n",
      "Epoch 28: 100%|█| 13/13 [00:05<00:00,  2.50it/s, v_num=0, train_loss_step=0.995,\u001b[A\n",
      "Validation: |                                             | 0/? [00:00<?, ?it/s]\u001b[A\n",
      "Validation:   0%|                                         | 0/2 [00:00<?, ?it/s]\u001b[A\n",
      "Validation DataLoader 0:   0%|                            | 0/2 [00:00<?, ?it/s]\u001b[A\n",
      "Validation DataLoader 0:  50%|██████████          | 1/2 [00:00<00:00, 17.12it/s]\u001b[A\n",
      "Validation DataLoader 0: 100%|████████████████████| 2/2 [00:00<00:00, 18.26it/s]\u001b[A\n",
      "Epoch 29: 100%|█| 13/13 [00:04<00:00,  3.14it/s, v_num=0, train_loss_step=0.576,\u001b[A\n",
      "Validation: |                                             | 0/? [00:00<?, ?it/s]\u001b[A\n",
      "Validation:   0%|                                         | 0/2 [00:00<?, ?it/s]\u001b[A\n",
      "Validation DataLoader 0:   0%|                            | 0/2 [00:00<?, ?it/s]\u001b[A\n",
      "Validation DataLoader 0:  50%|██████████          | 1/2 [00:00<00:00,  9.23it/s]\u001b[A\n",
      "Validation DataLoader 0: 100%|████████████████████| 2/2 [00:00<00:00,  9.90it/s]\u001b[A\n",
      "Epoch 30: 100%|█| 13/13 [00:09<00:00,  1.40it/s, v_num=0, train_loss_step=0.386,\u001b[A\n",
      "Validation: |                                             | 0/? [00:00<?, ?it/s]\u001b[A\n",
      "Validation:   0%|                                         | 0/2 [00:00<?, ?it/s]\u001b[A\n",
      "Validation DataLoader 0:   0%|                            | 0/2 [00:00<?, ?it/s]\u001b[A\n",
      "Validation DataLoader 0:  50%|██████████          | 1/2 [00:00<00:00, 11.68it/s]\u001b[A\n",
      "Validation DataLoader 0: 100%|████████████████████| 2/2 [00:00<00:00, 12.00it/s]\u001b[A\n",
      "Epoch 31: 100%|█| 13/13 [00:04<00:00,  2.92it/s, v_num=0, train_loss_step=0.931,\u001b[A\n",
      "Validation: |                                             | 0/? [00:00<?, ?it/s]\u001b[A\n",
      "Validation:   0%|                                         | 0/2 [00:00<?, ?it/s]\u001b[A\n",
      "Validation DataLoader 0:   0%|                            | 0/2 [00:00<?, ?it/s]\u001b[A\n",
      "Validation DataLoader 0:  50%|██████████          | 1/2 [00:00<00:00, 13.66it/s]\u001b[A\n",
      "Validation DataLoader 0: 100%|████████████████████| 2/2 [00:00<00:00, 16.73it/s]\u001b[A\n",
      "Epoch 32: 100%|█| 13/13 [00:05<00:00,  2.54it/s, v_num=0, train_loss_step=0.736,\u001b[A\n",
      "Validation: |                                             | 0/? [00:00<?, ?it/s]\u001b[A\n",
      "Validation:   0%|                                         | 0/2 [00:00<?, ?it/s]\u001b[A\n",
      "Validation DataLoader 0:   0%|                            | 0/2 [00:00<?, ?it/s]\u001b[A\n",
      "Validation DataLoader 0:  50%|██████████          | 1/2 [00:00<00:00, 14.79it/s]\u001b[A\n",
      "Validation DataLoader 0: 100%|████████████████████| 2/2 [00:00<00:00, 16.07it/s]\u001b[A\n",
      "Epoch 33: 100%|█| 13/13 [00:04<00:00,  2.83it/s, v_num=0, train_loss_step=0.901,\u001b[A\n",
      "Validation: |                                             | 0/? [00:00<?, ?it/s]\u001b[A\n",
      "Validation:   0%|                                         | 0/2 [00:00<?, ?it/s]\u001b[A\n",
      "Validation DataLoader 0:   0%|                            | 0/2 [00:00<?, ?it/s]\u001b[A\n",
      "Validation DataLoader 0:  50%|██████████          | 1/2 [00:00<00:00, 15.04it/s]\u001b[A\n",
      "Validation DataLoader 0: 100%|████████████████████| 2/2 [00:00<00:00, 17.59it/s]\u001b[A\n",
      "Epoch 34: 100%|█| 13/13 [00:03<00:00,  3.26it/s, v_num=0, train_loss_step=0.755,\u001b[A\n",
      "Validation: |                                             | 0/? [00:00<?, ?it/s]\u001b[A\n",
      "Validation:   0%|                                         | 0/2 [00:00<?, ?it/s]\u001b[A\n",
      "Validation DataLoader 0:   0%|                            | 0/2 [00:00<?, ?it/s]\u001b[A\n",
      "Validation DataLoader 0:  50%|██████████          | 1/2 [00:00<00:00, 17.78it/s]\u001b[A\n",
      "Validation DataLoader 0: 100%|████████████████████| 2/2 [00:00<00:00, 17.60it/s]\u001b[A\n",
      "Epoch 35: 100%|█| 13/13 [00:04<00:00,  2.81it/s, v_num=0, train_loss_step=0.485,\u001b[A\n",
      "Validation: |                                             | 0/? [00:00<?, ?it/s]\u001b[A\n",
      "Validation:   0%|                                         | 0/2 [00:00<?, ?it/s]\u001b[A\n",
      "Validation DataLoader 0:   0%|                            | 0/2 [00:00<?, ?it/s]\u001b[A\n",
      "Validation DataLoader 0:  50%|██████████          | 1/2 [00:00<00:00, 16.84it/s]\u001b[A\n",
      "Validation DataLoader 0: 100%|████████████████████| 2/2 [00:00<00:00, 18.21it/s]\u001b[A\n",
      "Epoch 36: 100%|█| 13/13 [00:04<00:00,  2.88it/s, v_num=0, train_loss_step=0.511,\u001b[A\n",
      "Validation: |                                             | 0/? [00:00<?, ?it/s]\u001b[A\n",
      "Validation:   0%|                                         | 0/2 [00:00<?, ?it/s]\u001b[A\n",
      "Validation DataLoader 0:   0%|                            | 0/2 [00:00<?, ?it/s]\u001b[A\n",
      "Validation DataLoader 0:  50%|██████████          | 1/2 [00:00<00:00, 15.29it/s]\u001b[A\n",
      "Validation DataLoader 0: 100%|████████████████████| 2/2 [00:00<00:00, 17.02it/s]\u001b[A\n",
      "Epoch 37: 100%|█| 13/13 [00:04<00:00,  3.13it/s, v_num=0, train_loss_step=0.371,\u001b[A\n",
      "Validation: |                                             | 0/? [00:00<?, ?it/s]\u001b[A\n",
      "Validation:   0%|                                         | 0/2 [00:00<?, ?it/s]\u001b[A\n",
      "Validation DataLoader 0:   0%|                            | 0/2 [00:00<?, ?it/s]\u001b[A\n",
      "Validation DataLoader 0:  50%|██████████          | 1/2 [00:00<00:00,  6.72it/s]\u001b[A\n",
      "Validation DataLoader 0: 100%|████████████████████| 2/2 [00:00<00:00,  9.81it/s]\u001b[A\n",
      "Epoch 38: 100%|█| 13/13 [00:04<00:00,  3.04it/s, v_num=0, train_loss_step=0.452,\u001b[A\n",
      "Validation: |                                             | 0/? [00:00<?, ?it/s]\u001b[A\n",
      "Validation:   0%|                                         | 0/2 [00:00<?, ?it/s]\u001b[A\n",
      "Validation DataLoader 0:   0%|                            | 0/2 [00:00<?, ?it/s]\u001b[A\n",
      "Validation DataLoader 0:  50%|██████████          | 1/2 [00:00<00:00, 13.30it/s]\u001b[A\n",
      "Validation DataLoader 0: 100%|████████████████████| 2/2 [00:00<00:00, 14.64it/s]\u001b[A\n",
      "Epoch 39: 100%|█| 13/13 [00:07<00:00,  1.70it/s, v_num=0, train_loss_step=0.703,\u001b[A\n",
      "Validation: |                                             | 0/? [00:00<?, ?it/s]\u001b[A\n",
      "Validation:   0%|                                         | 0/2 [00:00<?, ?it/s]\u001b[A\n",
      "Validation DataLoader 0:   0%|                            | 0/2 [00:00<?, ?it/s]\u001b[A\n",
      "Validation DataLoader 0:  50%|██████████          | 1/2 [00:00<00:00,  9.35it/s]\u001b[A\n",
      "Validation DataLoader 0: 100%|████████████████████| 2/2 [00:00<00:00, 11.60it/s]\u001b[A\n",
      "Epoch 40: 100%|█| 13/13 [00:06<00:00,  1.92it/s, v_num=0, train_loss_step=0.685,\u001b[A\n",
      "Validation: |                                             | 0/? [00:00<?, ?it/s]\u001b[A\n",
      "Validation:   0%|                                         | 0/2 [00:00<?, ?it/s]\u001b[A\n",
      "Validation DataLoader 0:   0%|                            | 0/2 [00:00<?, ?it/s]\u001b[A\n",
      "Validation DataLoader 0:  50%|██████████          | 1/2 [00:00<00:00, 13.36it/s]\u001b[A\n",
      "Validation DataLoader 0: 100%|████████████████████| 2/2 [00:00<00:00, 15.65it/s]\u001b[A\n",
      "Epoch 41: 100%|█| 13/13 [00:07<00:00,  1.83it/s, v_num=0, train_loss_step=0.451,\u001b[A\n",
      "Validation: |                                             | 0/? [00:00<?, ?it/s]\u001b[A\n",
      "Validation:   0%|                                         | 0/2 [00:00<?, ?it/s]\u001b[A\n",
      "Validation DataLoader 0:   0%|                            | 0/2 [00:00<?, ?it/s]\u001b[A\n",
      "Validation DataLoader 0:  50%|██████████          | 1/2 [00:00<00:00, 15.59it/s]\u001b[A\n",
      "Validation DataLoader 0: 100%|████████████████████| 2/2 [00:00<00:00, 15.60it/s]\u001b[A\n",
      "Epoch 42: 100%|█| 13/13 [00:06<00:00,  2.00it/s, v_num=0, train_loss_step=1.220,\u001b[A\n",
      "Validation: |                                             | 0/? [00:00<?, ?it/s]\u001b[A\n",
      "Validation:   0%|                                         | 0/2 [00:00<?, ?it/s]\u001b[A\n",
      "Validation DataLoader 0:   0%|                            | 0/2 [00:00<?, ?it/s]\u001b[A\n",
      "Validation DataLoader 0:  50%|██████████          | 1/2 [00:00<00:00, 10.68it/s]\u001b[A\n",
      "Validation DataLoader 0: 100%|████████████████████| 2/2 [00:00<00:00, 12.82it/s]\u001b[A\n",
      "Epoch 43: 100%|█| 13/13 [00:04<00:00,  2.91it/s, v_num=0, train_loss_step=0.862,\u001b[A\n",
      "Validation: |                                             | 0/? [00:00<?, ?it/s]\u001b[A\n",
      "Validation:   0%|                                         | 0/2 [00:00<?, ?it/s]\u001b[A\n",
      "Validation DataLoader 0:   0%|                            | 0/2 [00:00<?, ?it/s]\u001b[A\n",
      "Validation DataLoader 0:  50%|██████████          | 1/2 [00:00<00:00, 11.20it/s]\u001b[A\n",
      "Validation DataLoader 0: 100%|████████████████████| 2/2 [00:00<00:00, 13.51it/s]\u001b[A\n",
      "Epoch 44: 100%|█| 13/13 [00:03<00:00,  3.28it/s, v_num=0, train_loss_step=0.438,\u001b[A\n",
      "Validation: |                                             | 0/? [00:00<?, ?it/s]\u001b[A\n",
      "Validation:   0%|                                         | 0/2 [00:00<?, ?it/s]\u001b[A\n",
      "Validation DataLoader 0:   0%|                            | 0/2 [00:00<?, ?it/s]\u001b[A\n",
      "Validation DataLoader 0:  50%|██████████          | 1/2 [00:00<00:00,  7.57it/s]\u001b[A\n",
      "Validation DataLoader 0: 100%|████████████████████| 2/2 [00:00<00:00,  9.72it/s]\u001b[A\n",
      "Epoch 45: 100%|█| 13/13 [00:04<00:00,  2.91it/s, v_num=0, train_loss_step=0.672,\u001b[A\n",
      "Validation: |                                             | 0/? [00:00<?, ?it/s]\u001b[A\n",
      "Validation:   0%|                                         | 0/2 [00:00<?, ?it/s]\u001b[A\n",
      "Validation DataLoader 0:   0%|                            | 0/2 [00:00<?, ?it/s]\u001b[A\n",
      "Validation DataLoader 0:  50%|██████████          | 1/2 [00:00<00:00, 11.09it/s]\u001b[A\n",
      "Validation DataLoader 0: 100%|████████████████████| 2/2 [00:00<00:00, 13.38it/s]\u001b[A\n",
      "Epoch 46: 100%|█| 13/13 [00:08<00:00,  1.47it/s, v_num=0, train_loss_step=0.543,\u001b[A\n",
      "Validation: |                                             | 0/? [00:00<?, ?it/s]\u001b[A\n",
      "Validation:   0%|                                         | 0/2 [00:00<?, ?it/s]\u001b[A\n",
      "Validation DataLoader 0:   0%|                            | 0/2 [00:00<?, ?it/s]\u001b[A\n",
      "Validation DataLoader 0:  50%|██████████          | 1/2 [00:00<00:00,  4.97it/s]\u001b[A\n",
      "Validation DataLoader 0: 100%|████████████████████| 2/2 [00:00<00:00,  7.76it/s]\u001b[A\n",
      "Epoch 47: 100%|█| 13/13 [00:05<00:00,  2.45it/s, v_num=0, train_loss_step=0.261,\u001b[A\n",
      "Validation: |                                             | 0/? [00:00<?, ?it/s]\u001b[A\n",
      "Validation:   0%|                                         | 0/2 [00:00<?, ?it/s]\u001b[A\n",
      "Validation DataLoader 0:   0%|                            | 0/2 [00:00<?, ?it/s]\u001b[A\n",
      "Validation DataLoader 0:  50%|██████████          | 1/2 [00:00<00:00, 13.33it/s]\u001b[A\n",
      "Validation DataLoader 0: 100%|████████████████████| 2/2 [00:00<00:00, 15.62it/s]\u001b[A\n",
      "Epoch 48: 100%|█| 13/13 [00:04<00:00,  3.07it/s, v_num=0, train_loss_step=0.468,\u001b[A\n",
      "Validation: |                                             | 0/? [00:00<?, ?it/s]\u001b[A\n",
      "Validation:   0%|                                         | 0/2 [00:00<?, ?it/s]\u001b[A\n",
      "Validation DataLoader 0:   0%|                            | 0/2 [00:00<?, ?it/s]\u001b[A\n",
      "Validation DataLoader 0:  50%|██████████          | 1/2 [00:00<00:00,  7.44it/s]\u001b[A\n",
      "Validation DataLoader 0: 100%|████████████████████| 2/2 [00:00<00:00,  9.25it/s]\u001b[A\n",
      "Epoch 49: 100%|█| 13/13 [00:08<00:00,  1.45it/s, v_num=0, train_loss_step=1.120,\u001b[A\n",
      "Validation: |                                             | 0/? [00:00<?, ?it/s]\u001b[A\n",
      "Validation:   0%|                                         | 0/2 [00:00<?, ?it/s]\u001b[A\n",
      "Validation DataLoader 0:   0%|                            | 0/2 [00:00<?, ?it/s]\u001b[A\n",
      "Validation DataLoader 0:  50%|██████████          | 1/2 [00:00<00:00,  6.32it/s]\u001b[A\n",
      "Validation DataLoader 0: 100%|████████████████████| 2/2 [00:00<00:00,  9.18it/s]\u001b[A\n",
      "Epoch 49: 100%|█| 13/13 [00:09<00:00,  1.41it/s, v_num=0, train_loss_step=1.120,`Trainer.fit` stopped: `max_epochs=50` reached.\n",
      "Epoch 49: 100%|█| 13/13 [00:09<00:00,  1.41it/s, v_num=0, train_loss_step=1.120,\n",
      "/opt/homebrew/anaconda3/lib/python3.12/site-packages/lightning/pytorch/trainer/connectors/checkpoint_connector.py:149: `.predict(ckpt_path=None)` was called without a model. The best model of the previous `fit` call will be used. You can pass `.predict(ckpt_path='best')` to use the best model or `.predict(ckpt_path='last')` to use the last model. If you pass a value, this warning will be silenced.\n",
      "Restoring states from the checkpoint path at /Users/elyssaqi/Desktop/MLAging/ML-Age/ChemPropReference/model_checkpoint/model_0/checkpoints/best-epoch=49-val_loss=1.19.ckpt\n",
      "Loaded model weights from the checkpoint at /Users/elyssaqi/Desktop/MLAging/ML-Age/ChemPropReference/model_checkpoint/model_0/checkpoints/best-epoch=49-val_loss=1.19.ckpt\n",
      "/opt/homebrew/anaconda3/lib/python3.12/site-packages/lightning/pytorch/trainer/connectors/data_connector.py:425: The 'predict_dataloader' does not have many workers which may be a bottleneck. Consider increasing the value of the `num_workers` argument` to `num_workers=7` in the `DataLoader` to improve performance.\n",
      "Predicting DataLoader 0: 100%|████████████████████| 2/2 [00:01<00:00,  1.39it/s]\n",
      "2025-03-25T00:34:17 - INFO:chemprop.cli.train - Test Set results:\n",
      "2025-03-25T00:34:17 - INFO:chemprop.cli.train - test/mse: 380.18634033203125\n",
      "2025-03-25T00:34:18 - INFO:chemprop.cli.train - Best model saved to 'model_checkpoint/model_0/best.pt'\n"
     ]
    }
   ],
   "source": [
    "!chemprop train --data-path train_data.csv \\\n",
    "               --task-type regression \\\n",
    "               --output-dir ./model_checkpoint \\\n",
    "               --smiles-columns smiles \\\n",
    "               --target-columns avg_lifespan_change_percent \\\n",
    "               --split-type random \\\n",
    "               --data-seed 0\n"
   ]
  },
  {
   "cell_type": "markdown",
   "metadata": {},
   "source": [
    "Use the trained Chemprop model to predict lifespan changes for compounds in your test dataset. Predictions are saved to predictions.csv."
   ]
  },
  {
   "cell_type": "code",
   "execution_count": 23,
   "metadata": {},
   "outputs": [
    {
     "name": "stdout",
     "output_type": "stream",
     "text": [
      "2025-03-25T00:36:14 - INFO:chemprop.cli.main - Running in mode 'predict' with args: {'smiles_columns': ['smiles'], 'reaction_columns': None, 'no_header_row': False, 'num_workers': 0, 'batch_size': 64, 'accelerator': 'auto', 'devices': 'auto', 'rxn_mode': 'REAC_DIFF', 'multi_hot_atom_featurizer_mode': 'V2', 'keep_h': False, 'add_h': False, 'molecule_featurizers': None, 'descriptors_path': None, 'no_descriptor_scaling': False, 'no_atom_feature_scaling': False, 'no_atom_descriptor_scaling': False, 'no_bond_feature_scaling': False, 'atom_features_path': None, 'atom_descriptors_path': None, 'bond_features_path': None, 'test_path': PosixPath('test_data.csv'), 'output': PosixPath('predictions.csv'), 'drop_extra_columns': False, 'model_paths': [PosixPath('model_checkpoint/model_0/best.pt')], 'cal_path': None, 'uncertainty_method': 'none', 'calibration_method': None, 'evaluation_methods': None, 'uncertainty_dropout_p': 0.1, 'dropout_sampling_size': 10, 'calibration_interval_percentile': 95, 'conformal_alpha': 0.1, 'cal_descriptors_path': None, 'cal_atom_features_path': None, 'cal_atom_descriptors_path': None, 'cal_bond_features_path': None}\n",
      "2025-03-25T00:36:14 - INFO:chemprop.cli.predict - test size: 253\n",
      "You are using the plain ModelCheckpoint callback. Consider using LitModelCheckpoint which with seamless uploading to Model registry.\n",
      "GPU available: True (mps), used: True\n",
      "TPU available: False, using: 0 TPU cores\n",
      "HPU available: False, using: 0 HPUs\n",
      "/opt/homebrew/anaconda3/lib/python3.12/site-packages/lightning/pytorch/trainer/connectors/data_connector.py:425: The 'predict_dataloader' does not have many workers which may be a bottleneck. Consider increasing the value of the `num_workers` argument` to `num_workers=7` in the `DataLoader` to improve performance.\n",
      "Predicting DataLoader 0: 100%|████████████████████| 4/4 [00:00<00:00,  5.88it/s]\n",
      "2025-03-25T00:36:15 - INFO:chemprop.cli.predict - Predictions saved to 'predictions.csv'\n"
     ]
    }
   ],
   "source": [
    "!chemprop predict \\\n",
    "    --test-path test_data.csv \\\n",
    "    --model-paths ./model_checkpoint/model_0/best.pt \\\n",
    "    --preds-path predictions.csv \\\n",
    "    --smiles-columns smiles\n"
   ]
  },
  {
   "cell_type": "markdown",
   "metadata": {},
   "source": [
    "Load the predicted and actual lifespan change values to evaluate the model’s accuracy."
   ]
  },
  {
   "cell_type": "code",
   "execution_count": 24,
   "metadata": {},
   "outputs": [],
   "source": [
    "predictions = pd.read_csv('predictions.csv')\n",
    "y_test = test_df['avg_lifespan_change_percent']\n",
    "y_pred = predictions['avg_lifespan_change_percent']"
   ]
  },
  {
   "cell_type": "markdown",
   "metadata": {},
   "source": [
    "Calculate and clearly display the R² score to assess how well the Chemprop model predicts lifespan changes. A higher R² indicates better prediction accuracy."
   ]
  },
  {
   "cell_type": "code",
   "execution_count": 25,
   "metadata": {},
   "outputs": [
    {
     "name": "stdout",
     "output_type": "stream",
     "text": [
      "Chemprop R² Score: -0.017\n"
     ]
    }
   ],
   "source": [
    "r2_chemprop = r2_score(y_test, y_pred)\n",
    "print(f\"Chemprop R² Score: {r2_chemprop:.3f}\")"
   ]
  },
  {
   "cell_type": "markdown",
   "metadata": {},
   "source": [
    "Visually compare the actual vs. predicted lifespan changes to clearly understand the model’s predictive performance. Points close to the red line indicate accurate predictions."
   ]
  },
  {
   "cell_type": "code",
   "execution_count": 26,
   "metadata": {},
   "outputs": [
    {
     "data": {
      "image/png": "[encoded data removed]",
      "text/plain": [
       "<Figure size 600x600 with 1 Axes>"
      ]
     },
     "metadata": {},
     "output_type": "display_data"
    }
   ],
   "source": [
    "plt.figure(figsize=(6, 6))\n",
    "sns.regplot(x=y_test, y=y_pred, scatter_kws={'s': 10}, line_kws={'color': 'red'})\n",
    "plt.xlabel(\"Actual Lifespan Change (%)\")\n",
    "plt.ylabel(\"Predicted Lifespan Change (%)\")\n",
    "plt.title(\"Test Set Correlation: Actual vs. Predicted Lifespan Change (Chemprop)\")\n",
    "plt.show()"
   ]
  }
 ],
 "metadata": {
  "kernelspec": {
   "display_name": "base",
   "language": "python",
   "name": "python3"
  },
  "language_info": {
   "codemirror_mode": {
    "name": "ipython",
    "version": 3
   },
   "file_extension": ".py",
   "mimetype": "text/x-python",
   "name": "python",
   "nbconvert_exporter": "python",
   "pygments_lexer": "ipython3",
   "version": "3.12.7"
  }
 },
 "nbformat": 4,
 "nbformat_minor": 2
}
