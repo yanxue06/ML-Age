{
 "cells": [
  {
   "cell_type": "code",
   "execution_count": 5,
   "metadata": {},
   "outputs": [],
   "source": [
    "import pandas as pd\n",
    "import numpy as np\n",
    "import seaborn as sns\n",
    "import matplotlib.pyplot as plt\n",
    "from chemprop.cli import train, predict\n",
    "from sklearn.metrics import r2_score\n",
    "from sklearn.model_selection import train_test_split"
   ]
  },
  {
   "cell_type": "markdown",
   "metadata": {},
   "source": [
    "Loading the dataset."
   ]
  },
  {
   "cell_type": "code",
   "execution_count": 6,
   "metadata": {},
   "outputs": [],
   "source": [
    "df = pd.read_csv('../ConformalPrediction/dataset.csv')"
   ]
  },
  {
   "cell_type": "markdown",
   "metadata": {},
   "source": [
    "Filtering for the \"Caenorhabditis elegans\" species."
   ]
  },
  {
   "cell_type": "code",
   "execution_count": 7,
   "metadata": {},
   "outputs": [],
   "source": [
    "df = df[df[\"species\"] == \"Caenorhabditis elegans\"].reset_index(drop=True)"
   ]
  },
  {
   "cell_type": "code",
   "execution_count": 12,
   "metadata": {},
   "outputs": [],
   "source": [
    "# Step 1: Remove rows with missing values in target column\n",
    "df = df.dropna(subset=['avg_lifespan_change_percent'])\n",
    "\n",
    "# Step 2: Find best-performing dose per compound-species pair\n",
    "idx = df.groupby(['compound_name', 'species'])['avg_lifespan_change_percent'].idxmax()\n",
    "df = df.loc[idx].reset_index(drop=True)\n",
    "\n",
    "# Step 3: Now keep just one row per compound (e.g., best across all species)\n",
    "df = df.sort_values('avg_lifespan_change_percent', ascending=False)\n",
    "df = df.drop_duplicates(subset='compound_name').reset_index(drop=True)"
   ]
  },
  {
   "cell_type": "markdown",
   "metadata": {},
   "source": [
    "Removes rows with missing values in the target column."
   ]
  },
  {
   "cell_type": "code",
   "execution_count": 13,
   "metadata": {},
   "outputs": [],
   "source": [
    "import pubchempy as pcp\n",
    "from rdkit import Chem\n",
    "from rdkit.Chem import rdFingerprintGenerator\n",
    "import ssl"
   ]
  },
  {
   "cell_type": "markdown",
   "metadata": {},
   "source": [
    "Configure SSL settings to avoid connection issues when retrieving SMILES data from PubChem."
   ]
  },
  {
   "cell_type": "code",
   "execution_count": 14,
   "metadata": {},
   "outputs": [],
   "source": [
    "ssl._create_default_https_context = ssl._create_unverified_context"
   ]
  },
  {
   "cell_type": "markdown",
   "metadata": {},
   "source": [
    "Uses PubChem to fetch SMILES for each compound."
   ]
  },
  {
   "cell_type": "code",
   "execution_count": 15,
   "metadata": {},
   "outputs": [],
   "source": [
    "def get_smiles_from_pubchem(compound_name):\n",
    "    \"\"\"Fetch canonical SMILES for a compound name from PubChem.\"\"\"\n",
    "    try:\n",
    "        compound = pcp.get_compounds(compound_name, 'name')\n",
    "        if compound:\n",
    "            return compound[0].canonical_smiles\n",
    "    except Exception as e:\n",
    "        print(f\"Error fetching SMILES for {compound_name}: {e}\")\n",
    "    return None"
   ]
  },
  {
   "cell_type": "markdown",
   "metadata": {},
   "source": [
    "Fetch SMILES strings for each compound. Remove any rows where SMILES couldn't be found."
   ]
  },
  {
   "cell_type": "code",
   "execution_count": 16,
   "metadata": {},
   "outputs": [],
   "source": [
    "df['smiles'] = df['compound_name'].apply(get_smiles_from_pubchem)\n",
    "df = df.dropna(subset=['smiles'])  # Drop rows where SMILES is not available"
   ]
  },
  {
   "cell_type": "markdown",
   "metadata": {},
   "source": [
    "Prepare the final dataset for Chemprop, containing only SMILES and target values, and save it as lifespan_data.csv."
   ]
  },
  {
   "cell_type": "code",
   "execution_count": 17,
   "metadata": {},
   "outputs": [],
   "source": [
    "chemprop_data = df[['smiles', 'avg_lifespan_change_percent']]\n",
    "chemprop_data.to_csv('lifespan_data.csv', index=False)"
   ]
  },
  {
   "cell_type": "markdown",
   "metadata": {},
   "source": [
    "Split data into training (80%) and testing (20%) datasets, clearly saving each separately."
   ]
  },
  {
   "cell_type": "code",
   "execution_count": 18,
   "metadata": {},
   "outputs": [],
   "source": [
    "train_df, test_df = train_test_split(chemprop_data, test_size=0.2, random_state=42)\n",
    "train_df.to_csv('train_data.csv', index=False)\n",
    "test_df.to_csv('test_data.csv', index=False)"
   ]
  },
  {
   "cell_type": "markdown",
   "metadata": {},
   "source": [
    "Train a Chemprop regression model using your training data. The trained model is saved in the model_checkpoint directory."
   ]
  },
  {
   "cell_type": "code",
   "execution_count": null,
   "metadata": {},
   "outputs": [],
   "source": [
    "!chemprop train --data-path train_data.csv \\\n",
    "               --task-type regression \\\n",
    "               --output-dir ./model_checkpoint \\\n",
    "               --smiles-columns smiles \\\n",
    "               --target-columns avg_lifespan_change_percent \\\n",
    "               --split-type random \\\n",
    "               --data-seed 0\n"
   ]
  },
  {
   "cell_type": "markdown",
   "metadata": {},
   "source": [
    "Use the trained Chemprop model to predict lifespan changes for compounds in your test dataset. Predictions are saved to predictions.csv."
   ]
  },
  {
   "cell_type": "code",
   "execution_count": 20,
   "metadata": {},
   "outputs": [
    {
     "name": "stdout",
     "output_type": "stream",
     "text": [
      "2025-04-10T22:53:23 - INFO:chemprop.cli.main - Running in mode 'predict' with args: {'smiles_columns': ['smiles'], 'reaction_columns': None, 'no_header_row': False, 'num_workers': 0, 'batch_size': 64, 'accelerator': 'auto', 'devices': 'auto', 'rxn_mode': 'REAC_DIFF', 'multi_hot_atom_featurizer_mode': 'V2', 'keep_h': False, 'add_h': False, 'molecule_featurizers': None, 'descriptors_path': None, 'no_descriptor_scaling': False, 'no_atom_feature_scaling': False, 'no_atom_descriptor_scaling': False, 'no_bond_feature_scaling': False, 'atom_features_path': None, 'atom_descriptors_path': None, 'bond_features_path': None, 'test_path': PosixPath('test_data.csv'), 'output': PosixPath('predictions.csv'), 'drop_extra_columns': False, 'model_paths': [PosixPath('model_checkpoint/model_0/best.pt')], 'cal_path': None, 'uncertainty_method': 'none', 'calibration_method': None, 'evaluation_methods': None, 'uncertainty_dropout_p': 0.1, 'dropout_sampling_size': 10, 'calibration_interval_percentile': 95, 'conformal_alpha': 0.1, 'cal_descriptors_path': None, 'cal_atom_features_path': None, 'cal_atom_descriptors_path': None, 'cal_bond_features_path': None}\n",
      "2025-04-10T22:53:23 - INFO:chemprop.cli.predict - test size: 104\n",
      "You are using the plain ModelCheckpoint callback. Consider using LitModelCheckpoint which with seamless uploading to Model registry.\n",
      "GPU available: True (mps), used: True\n",
      "TPU available: False, using: 0 TPU cores\n",
      "HPU available: False, using: 0 HPUs\n",
      "/opt/homebrew/anaconda3/lib/python3.12/site-packages/lightning/pytorch/trainer/connectors/data_connector.py:425: The 'predict_dataloader' does not have many workers which may be a bottleneck. Consider increasing the value of the `num_workers` argument` to `num_workers=7` in the `DataLoader` to improve performance.\n",
      "Predicting DataLoader 0: 100%|████████████████████| 2/2 [00:00<00:00,  7.42it/s]\n",
      "2025-04-10T22:53:23 - INFO:chemprop.cli.predict - Predictions saved to 'predictions.csv'\n"
     ]
    }
   ],
   "source": [
    "!chemprop predict \\\n",
    "    --test-path test_data.csv \\\n",
    "    --model-paths ./model_checkpoint/model_0/best.pt \\\n",
    "    --preds-path predictions.csv \\\n",
    "    --smiles-columns smiles\n"
   ]
  },
  {
   "cell_type": "markdown",
   "metadata": {},
   "source": [
    "Load the predicted and actual lifespan change values to evaluate the model’s accuracy."
   ]
  },
  {
   "cell_type": "code",
   "execution_count": 21,
   "metadata": {},
   "outputs": [],
   "source": [
    "predictions = pd.read_csv('predictions.csv')\n",
    "y_test = test_df['avg_lifespan_change_percent']\n",
    "y_pred = predictions['avg_lifespan_change_percent']"
   ]
  },
  {
   "cell_type": "markdown",
   "metadata": {},
   "source": [
    "Calculate and clearly display the R² score to assess how well the Chemprop model predicts lifespan changes. A higher R² indicates better prediction accuracy."
   ]
  },
  {
   "cell_type": "code",
   "execution_count": 22,
   "metadata": {},
   "outputs": [
    {
     "name": "stdout",
     "output_type": "stream",
     "text": [
      "Chemprop R² Score: 0.069\n"
     ]
    }
   ],
   "source": [
    "r2_chemprop = r2_score(y_test, y_pred)\n",
    "print(f\"Chemprop R² Score: {r2_chemprop:.3f}\")"
   ]
  },
  {
   "cell_type": "markdown",
   "metadata": {},
   "source": [
    "Visually compare the actual vs. predicted lifespan changes to clearly understand the model’s predictive performance. Points close to the red line indicate accurate predictions."
   ]
  },
  {
   "cell_type": "code",
   "execution_count": 23,
   "metadata": {},
   "outputs": [
    {
     "data": {
      "image/png": "[encoded data removed]",
      "text/plain": [
       "<Figure size 600x600 with 1 Axes>"
      ]
     },
     "metadata": {},
     "output_type": "display_data"
    }
   ],
   "source": [
    "plt.figure(figsize=(6, 6))\n",
    "sns.regplot(x=y_test, y=y_pred, scatter_kws={'s': 10}, line_kws={'color': 'red'})\n",
    "plt.xlabel(\"Actual Lifespan Change (%)\")\n",
    "plt.ylabel(\"Predicted Lifespan Change (%)\")\n",
    "plt.title(\"Test Set Correlation: Actual vs. Predicted Lifespan Change (Chemprop)\")\n",
    "plt.show()"
   ]
  }
 ],
 "metadata": {
  "kernelspec": {
   "display_name": "base",
   "language": "python",
   "name": "python3"
  },
  "language_info": {
   "codemirror_mode": {
    "name": "ipython",
    "version": 3
   },
   "file_extension": ".py",
   "mimetype": "text/x-python",
   "name": "python",
   "nbconvert_exporter": "python",
   "pygments_lexer": "ipython3",
   "version": "3.12.7"
  }
 },
 "nbformat": 4,
 "nbformat_minor": 2
}
