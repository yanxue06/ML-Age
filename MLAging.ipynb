{
 "cells": [
  {
   "cell_type": "code",
   "execution_count": 1,
   "metadata": {},
   "outputs": [],
   "source": [
    "import pandas as pd \n",
    "import pubchempy as pcp \n",
    "import ssl \n",
    "\n",
    "# Disable SSL verification (temporary fix for certificate issues)\n",
    "ssl._create_default_https_context = ssl._create_unverified_context\n"
   ]
  },
  {
   "cell_type": "markdown",
   "metadata": {},
   "source": [
    "Imported required libraries "
   ]
  },
  {
   "cell_type": "code",
   "execution_count": 2,
   "metadata": {},
   "outputs": [
    {
     "name": "stdout",
     "output_type": "stream",
     "text": [
      "index: 0, smiles: None\n",
      "index: 1, smiles: None\n",
      "index: 2, smiles: None\n",
      "index: 3, smiles: None\n",
      "index: 4, smiles: None\n",
      "index: 5, smiles: None\n",
      "index: 6, smiles: None\n",
      "index: 7, smiles: None\n",
      "index: 8, smiles: None\n",
      "index: 9, smiles: C1=CC=C(C(=C1)C=NCCN=CC2=CC=CC=C2[O-])[O-].[Cl-].[Mn+3]\n",
      "index: 10, smiles: C1=CC=C(C(=C1)C=NCCN=CC2=CC=CC=C2[O-])[O-].[Cl-].[Mn+3]\n",
      "index: 11, smiles: [O-]S(=O)(=S)[O-].[Na+].[Na+]\n",
      "index: 12, smiles: [O-]S(=O)(=S)[O-].[Na+].[Na+]\n",
      "index: 13, smiles: CC12CCC3C(C1CC(C2O)O)CCC4=C3C=CC(=C4)O\n",
      "index: 14, smiles: CC12CCC3C(C1CC(C2O)O)CCC4=C3C=CC(=C4)O\n",
      "index: 15, smiles: C1CC2=C(C=CC(=C2)F)OC1C(CNCC(C3CCC4=C(O3)C=CC(=C4)F)O)O\n",
      "index: 16, smiles: C1CC2=C(C=CC(=C2)F)OC1C(CNCC(C3CCC4=C(O3)C=CC(=C4)F)O)O\n",
      "index: 17, smiles: C1=CC=C2C(=C1)C=NN=C2NN\n",
      "index: 18, smiles: C1=CC=C2C(=C1)C=NN=C2NN\n",
      "index: 19, smiles: C1=CC=C2C(=C1)C=NN=C2NN\n",
      "index: 20, smiles: C1=CC=C2C(=C1)C=NN=C2NN\n",
      "index: 21, smiles: C1=CC(=C(C=C1[N+](=O)[O-])[N+](=O)[O-])O\n",
      "index: 22, smiles: C1=CC(=C(C=C1[N+](=O)[O-])[N+](=O)[O-])O\n",
      "index: 23, smiles: CC1=C(C=C(C=C1)C2C(C(C(C(O2)CO)O)O)O)CC3=CC=C(S3)C4=CC=C(C=C4)F\n",
      "index: 24, smiles: CC1=C(C=C(C=C1)C2C(C(C(C(O2)CO)O)O)O)CC3=CC=C(S3)C4=CC=C(C=C4)F\n",
      "index: 25, smiles: CC1=C(C=C(C=C1)C2C(C(C(C(O2)CO)O)O)O)CC3=CC=C(S3)C4=CC=C(C=C4)F\n",
      "index: 26, smiles: CC1=C(C=C(C=C1)C2C(C(C(C(O2)CO)O)O)O)CC3=CC=C(S3)C4=CC=C(C=C4)F\n",
      "index: 27, smiles: C(CC(=O)O)C(=O)C(=O)O\n",
      "index: 28, smiles: C(CC(=O)O)C(=O)C(=O)O\n",
      "index: 29, smiles: CC(=O)NC(CS)C(=O)O\n"
     ]
    }
   ],
   "source": [
    "def get_smiles_from_pubchem(compound_name):\n",
    "    try: \n",
    "        compound = pcp.get_compounds(compound_name, 'name')\n",
    "        if compound: \n",
    "            return compound[0].canonical_smiles\n",
    "    except Exception as e: \n",
    "        print(f\"error: {e}\")\n",
    "\n",
    "    return None \n",
    "    \n",
    "df = pd.read_csv('dataset.csv')\n",
    "\n",
    "# df.head(x), the first x rows of the data sheet \n",
    "\n",
    "# print(df.iloc[0, 1])\n",
    "\n",
    "for index, row in df[:30].iterrows(): \n",
    "    name = row['compound_name']\n",
    "    smiles = get_smiles_from_pubchem(name)\n",
    "    print(f\"index: {index}, smiles: {smiles}\")"
   ]
  },
  {
   "cell_type": "markdown",
   "metadata": {},
   "source": [
    "Defined a function that converts compound names to smiles. "
   ]
  }
 ],
 "metadata": {
  "kernelspec": {
   "display_name": "Python 3",
   "language": "python",
   "name": "python3"
  },
  "language_info": {
   "codemirror_mode": {
    "name": "ipython",
    "version": 3
   },
   "file_extension": ".py",
   "mimetype": "text/x-python",
   "name": "python",
   "nbconvert_exporter": "python",
   "pygments_lexer": "ipython3",
   "version": "3.12.3"
  }
 },
 "nbformat": 4,
 "nbformat_minor": 2
}
