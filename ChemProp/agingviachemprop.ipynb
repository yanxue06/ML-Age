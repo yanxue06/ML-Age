{
 "cells": [
  {
   "cell_type": "code",
   "execution_count": null,
   "metadata": {},
   "outputs": [],
   "source": [
    "import pandas as pd"
   ]
  },
  {
   "cell_type": "code",
   "execution_count": null,
   "metadata": {},
   "outputs": [],
   "source": [
    "df = pd.read_csv('dataset.csv')\n",
    "species_counts = df[\"species\"].value_counts()\n",
    "print(species_counts.head(3))"
   ]
  },
  {
   "cell_type": "markdown",
   "metadata": {},
   "source": [
    "Isolating to only include Canorhabiditis elegans species. "
   ]
  },
  {
   "cell_type": "code",
   "execution_count": null,
   "metadata": {},
   "outputs": [],
   "source": [
    "df = df[df[\"species\"] == \"Caenorhabditis elegans\"].reset_index(drop=True)\n",
    "df.head(5)"
   ]
  },
  {
   "cell_type": "code",
   "execution_count": null,
   "metadata": {},
   "outputs": [],
   "source": [
    "import pubchempy as pcp\n",
    "from rdkit import Chem\n",
    "from rdkit.Chem import rdFingerprintGenerator\n",
    "import ssl \n",
    "\n",
    "ssl._create_default_https_context = ssl._create_unverified_context\n",
    "\n",
    "def get_smiles_from_pubchem(compound_name): \n",
    "    try: \n",
    "        compound = pcp.get_compounds(compound_name, 'name')\n",
    "        if compound: \n",
    "            return compound[0].canonical_smile\n",
    "    except Exception as e: \n",
    "        print(f\"Error fetching SMILES for {compound_name}: {e}\")\n",
    "    return None\n",
    "\n",
    "def smiles_to_ecfp(smiles, radius=2, n_bits=2048):\n",
    "    try: \n",
    "        if smiles: \n",
    "            mol = Chem.MolFromSmiles(smiles)\n",
    "            if mol: \n",
    "                generator = rdFingerprintGenerator.GetMorganGenerator(radius=radius, fpSize=n_bits)\n",
    "                fp = generator.GetFingerprint(mol)\n",
    "                return list(fp)\n",
    "            else: \n",
    "                print(f\"Invalid SMILES: {smiles}\")\n",
    "        else: \n",
    "            print(f\"No SMILES, skipping...\")\n",
    "    except Exception as e: \n",
    "        print(f\"Error generating ECFP for SMILES {smiles}: {e}\")\n",
    "    return None"
   ]
  },
  {
   "cell_type": "code",
   "execution_count": null,
   "metadata": {},
   "outputs": [],
   "source": [
    "df.head()"
   ]
  },
  {
   "cell_type": "code",
   "execution_count": null,
   "metadata": {},
   "outputs": [],
   "source": [
    "# First get unique compounds and their fingerprints\n",
    "unique_compounds = df['compound_name'].unique()\n",
    "compound_to_fingerprint = {}\n",
    "valid_compounds = set()\n",
    "\n",
    "print(\"Converting compounds to fingerprints...\")\n",
    "for compound in unique_compounds:\n",
    "    smiles = get_smiles_from_pubchem(compound)\n",
    "    if smiles:\n",
    "        fingerprint = smiles_to_ecfp(smiles)\n",
    "        if fingerprint:\n",
    "            compound_to_fingerprint[compound] = fingerprint\n",
    "            valid_compounds.add(compound)\n",
    "\n",
    "# dropping rows where ECFP is unavailable\n",
    "df_filtered = df[df['compound_name'].isin(valid_compounds)].drop_duplicates(subset=['compound_name']).reset_index(drop=True)\n",
    "\n",
    "grouped_strain = df_filtered.groupby('strain').agg(\n",
    "    avg_lifespan_change_percent = ('avg_lifespan_change_percent', 'mean'),\n",
    "    avg_lifespan_change_percent_std = ('avg_lifespan_change_percent', 'std'),\n",
    "    avg_lifespan_change_percent_sem = ('avg_lifespan_change_percent', 'sem'),\n",
    "    avg_lifespan_change_percent_median = ('avg_lifespan_change_percent', 'median'),\n",
    "    avg_lifespan_change_percent_min = ('avg_lifespan_change_percent', 'min'),\n",
    "    avg_lifespan_change_percent_max = ('avg_lifespan_change_percent', 'max')\n",
    ").reset_index()\n",
    "\n",
    "grouped_dosage = df_filtered.groupby('dosage').agg(\n",
    "    avg_lifespan_change_percent = ('avg_lifespan_change_percent', 'mean'),\n",
    "    avg_lifespan_change_percent_std = ('avg_lifespan_change_percent', 'std'),\n",
    "    avg_lifespan_change_percent_sem = ('avg_lifespan_change_percent', 'sem'),\n",
    "    avg_lifespan_change_percent_median = ('avg_lifespan_change_percent', 'median'),\n",
    "    avg_lifespan_change_percent_min = ('avg_lifespan_change_percent', 'min'),\n",
    "    avg_lifespan_change_percent_max = ('avg_lifespan_change_percent', 'max')\n",
    ").reset_index()\n",
    "\n",
    "# 4. Add fingerprints as a single column array, replaces each of the compound names with their fingerprint\n",
    "df_filtered['fingerprint'] = df_filtered['compound_name'].map(compound_to_fingerprint)\n",
    "\n",
    "# 5. Merge everything together\n",
    "final_df = df_filtered.merge(grouped_strain, on='strain', suffixes=('', '_strain'))\n",
    "final_df = final_df.merge(grouped_dosage, on='dosage', suffixes=('', '_dosage'))\n",
    "\n",
    "print(\"\\nShape of final dataframe:\", final_df.shape)\n",
    "print(\"\\nColumns in final dataframe:\", final_df.columns.tolist())\n",
    "final_df.head()"
   ]
  },
  {
   "cell_type": "code",
   "execution_count": null,
   "metadata": {},
   "outputs": [],
   "source": [
    "# Drop rows with missing target values\n",
    "final_df = final_df.dropna(subset=['avg_lifespan_change_percent'])"
   ]
  },
  {
   "cell_type": "code",
   "execution_count": null,
   "metadata": {},
   "outputs": [],
   "source": [
    "import numpy as np\n",
    "\n",
    "# Convert fingerprint lists into NumPy array for ML compatibility\n",
    "X = np.array(final_df['fingerprint'].tolist())\n",
    "\n",
    "# Use lifespan change as the target variable\n",
    "y = final_df['avg_lifespan_change_percent'].values\n",
    "\n",
    "print(f\"Feature shape (X): {X.shape}\")  \n",
    "print(f\"Target shape (y): {y.shape}\") "
   ]
  },
  {
   "cell_type": "code",
   "execution_count": null,
   "metadata": {},
   "outputs": [],
   "source": []
  }
 ],
 "metadata": {
  "kernelspec": {
   "display_name": "base",
   "language": "python",
   "name": "python3"
  },
  "language_info": {
   "name": "python",
   "version": "3.12.7"
  }
 },
 "nbformat": 4,
 "nbformat_minor": 2
}
